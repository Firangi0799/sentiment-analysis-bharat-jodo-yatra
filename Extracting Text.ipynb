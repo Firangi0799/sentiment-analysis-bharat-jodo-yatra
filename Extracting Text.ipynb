{
 "cells": [
  {
   "cell_type": "markdown",
   "id": "e15da72a-7979-45b5-99c0-b004263a22dc",
   "metadata": {},
   "source": [
    "These are the libraries used for web scraping and data processing."
   ]
  },
  {
   "cell_type": "code",
   "execution_count": null,
   "id": "e64a9e70-b37d-4a98-b5fd-a63730bfea7c",
   "metadata": {},
   "outputs": [],
   "source": [
    "import pandas as pd\n",
    "import requests\n",
    "from requests.exceptions import RequestException\n",
    "from bs4 import BeautifulSoup"
   ]
  },
  {
   "cell_type": "markdown",
   "id": "eb2076b0-2e73-45f1-8468-d22a6df7b74f",
   "metadata": {},
   "source": [
    "This code reads a CSV file named 'links_during_new.csv' and stores it in a Pandas dataframe 'df'. The CSV file has only one column with headers named 'links-href'."
   ]
  },
  {
   "cell_type": "code",
   "execution_count": null,
   "id": "b553610e-a8dc-46d4-af81-14e1f2affad6",
   "metadata": {},
   "outputs": [],
   "source": [
    "df = pd.read_csv('links_during_new.csv', header=None, names=['links-href'])"
   ]
  },
  {
   "cell_type": "markdown",
   "id": "06396d71-1c40-49e9-9c7b-40cb57f4e94e",
   "metadata": {},
   "source": [
    "This code initializes an empty list 'texts'. This list will store the text from web pages."
   ]
  },
  {
   "cell_type": "code",
   "execution_count": null,
   "id": "880090f6-cfb3-477c-a437-aa7e3d85f6df",
   "metadata": {},
   "outputs": [],
   "source": [
    "texts = []"
   ]
  },
  {
   "cell_type": "markdown",
   "id": "165ee75e-636b-4405-9803-aeded6380e87",
   "metadata": {},
   "source": [
    "This code initializes a session using the 'requests' library and iterates through each URL in the 'links-href' column of the 'df' dataframe."
   ]
  },
  {
   "cell_type": "code",
   "execution_count": null,
   "id": "6da73450-d515-44d7-88b3-5ec698586696",
   "metadata": {},
   "outputs": [],
   "source": [
    "with requests.Session() as session:\n",
    "    for url in df['links-href']:"
   ]
  },
  {
   "cell_type": "markdown",
   "id": "74a6acf5-113f-436d-bea4-0a350f1ce0e9",
   "metadata": {},
   "source": [
    "This code first checks if the URL starts with 'http://' or 'https://'. If it doesn't, it adds 'http://' to the beginning of the URL. It then sends a GET request to the URL using the session. If the response is successful, it extracts the content using BeautifulSoup and finds all the 'p' tags in the HTML. It then extracts the text from each 'p' tag and joins it with a newline separator. The resulting text is appended to the 'texts' list."
   ]
  },
  {
   "cell_type": "code",
   "execution_count": null,
   "id": "90ef4cd5-acc8-4885-8304-8829656e2b2c",
   "metadata": {},
   "outputs": [],
   "source": [
    "if not url.startswith('http://') and not url.startswith('https://'):\n",
    "    url = 'http://' + url\n",
    "\n",
    "response = session.get(url)\n",
    "\n",
    "soup = BeautifulSoup(response.content, 'html.parser')\n",
    "\n",
    "paragraphs = soup.find_all('p')\n",
    "\n",
    "text = '\\n'.join([p.get_text() for p in paragraphs])\n",
    "\n",
    "texts.append(text)"
   ]
  },
  {
   "cell_type": "markdown",
   "id": "6d828293-a03f-40db-8e59-48c3b81deab7",
   "metadata": {},
   "source": [
    "This code catches any exceptions that occur during the processing of a URL and prints an error message indicating the URL and the specific exception. It then appends an empty string to the 'texts' list."
   ]
  },
  {
   "cell_type": "code",
   "execution_count": null,
   "id": "5a5be02a-4687-4421-98f8-a467f08d7f43",
   "metadata": {},
   "outputs": [],
   "source": [
    "except RequestException as e:\n",
    "    print(f\"Error processing URL {url}: {e}\")\n",
    "    texts.append('')"
   ]
  },
  {
   "cell_type": "markdown",
   "id": "6c4a4f95-aea0-4655-93a2-c90a501a8acd",
   "metadata": {},
   "source": [
    "This code creates a new column in the 'df' dataframe called 'text' and adds the 'texts' list as a series to that column. It then saves the resulting dataframe to an Excel file called 'output_during.xlsx' without including an index column."
   ]
  },
  {
   "cell_type": "code",
   "execution_count": null,
   "id": "6a24056f-3e5f-4628-970c-e39d59355355",
   "metadata": {},
   "outputs": [],
   "source": [
    "df['text'] = pd.Series(texts)\n",
    "\n",
    "df.to_excel('output_during.xlsx', index=False)"
   ]
  }
 ],
 "metadata": {
  "kernelspec": {
   "display_name": "Python 3 (ipykernel)",
   "language": "python",
   "name": "python3"
  },
  "language_info": {
   "codemirror_mode": {
    "name": "ipython",
    "version": 3
   },
   "file_extension": ".py",
   "mimetype": "text/x-python",
   "name": "python",
   "nbconvert_exporter": "python",
   "pygments_lexer": "ipython3",
   "version": "3.9.7"
  }
 },
 "nbformat": 4,
 "nbformat_minor": 5
}
