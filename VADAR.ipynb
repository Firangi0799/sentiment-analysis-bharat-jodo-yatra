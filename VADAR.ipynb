{
 "cells": [
  {
   "cell_type": "markdown",
   "id": "3705b69e-3974-4dc6-ac2b-0e199be8b98d",
   "metadata": {},
   "source": [
    "Import the required libraries: pandas and SentimentIntensityAnalyzer from nltk.sentiment.vader."
   ]
  },
  {
   "cell_type": "code",
   "execution_count": null,
   "id": "d1e06422-363e-4785-8336-5248254ee546",
   "metadata": {},
   "outputs": [],
   "source": [
    "import pandas as pd\n",
    "from nltk.sentiment.vader import SentimentIntensityAnalyzer"
   ]
  },
  {
   "cell_type": "markdown",
   "id": "0ea28471-1ee8-4d2a-b564-df13dfb3785b",
   "metadata": {},
   "source": [
    "Read the preprocessed data file 'output_during(preprocessed).xlsx' into a pandas dataframe df1.\n",
    "Remove any rows with missing values (NaN) from the dataframe."
   ]
  },
  {
   "cell_type": "code",
   "execution_count": null,
   "id": "a465f39c-525c-4f70-850f-7eeb1fc7872f",
   "metadata": {},
   "outputs": [],
   "source": [
    "df1 = pd.read_excel('output_during(preprocessed).xlsx')\n",
    "df1 = df1.dropna()"
   ]
  },
  {
   "cell_type": "markdown",
   "id": "c77b0681-0a49-4740-8c86-0c000a337247",
   "metadata": {},
   "source": [
    "Create an instance of the SentimentIntensityAnalyzer class, which will be used to calculate sentiment scores for the news articles."
   ]
  },
  {
   "cell_type": "code",
   "execution_count": null,
   "id": "864bf0ff-dd17-4227-9353-ad9795ae36c1",
   "metadata": {},
   "outputs": [],
   "source": [
    "sia = SentimentIntensityAnalyzer()"
   ]
  },
  {
   "cell_type": "markdown",
   "id": "d022176a-21f0-4417-b8e3-0437423402c7",
   "metadata": {},
   "source": [
    "Define a function vader_sentiment_analysis that takes a row of the dataframe as input, calculates the sentiment scores for the news article using the SentimentIntensityAnalyzer, and adds the scores as columns to the row.\n",
    "The sentiment scores include positive_sentiment, negative_sentiment, neutral_sentiment, and compound_sentiment.\n",
    "The function returns the modified row."
   ]
  },
  {
   "cell_type": "code",
   "execution_count": null,
   "id": "ccb82f6f-bf10-455a-925b-07bd593c0344",
   "metadata": {},
   "outputs": [],
   "source": [
    "def vader_sentiment_analysis(row):\n",
    "    sentiment_scores = sia.polarity_scores(row['news_cleaned'])\n",
    "    row['positive_sentiment'] = sentiment_scores['pos']\n",
    "    row['negative_sentiment'] = sentiment_scores['neg']\n",
    "    row['neutral_sentiment'] = sentiment_scores['neu']\n",
    "    row['compound_sentiment'] = sentiment_scores['compound']\n",
    "    return row"
   ]
  },
  {
   "cell_type": "markdown",
   "id": "989f2da3-0738-4b8c-9454-97e1d05e1d03",
   "metadata": {},
   "source": [
    "Apply the vader_sentiment_analysis function to each row of the df1 dataframe using the apply() method with axis=1.\n",
    "This creates a new dataframe df1_sentiment that includes the sentiment scores for each news article."
   ]
  },
  {
   "cell_type": "code",
   "execution_count": null,
   "id": "7add20d7-78a2-4a3c-8532-d33c68b2ce1a",
   "metadata": {},
   "outputs": [],
   "source": [
    "df1_sentiment = df1.apply(vader_sentiment_analysis, axis=1)"
   ]
  },
  {
   "cell_type": "markdown",
   "id": "d962d5e7-22b7-416f-8979-d367050dca7b",
   "metadata": {},
   "source": [
    "Save the df1_sentiment dataframe to an Excel file named 'output_during(VADER).xlsx' without including the index column."
   ]
  },
  {
   "cell_type": "code",
   "execution_count": null,
   "id": "5bc9d4e8-dfa4-4f0f-9173-ea1b239b1c38",
   "metadata": {},
   "outputs": [],
   "source": [
    "df1_sentiment.to_excel('output_during(VADER).xlsx', index=False)"
   ]
  }
 ],
 "metadata": {
  "kernelspec": {
   "display_name": "Python 3 (ipykernel)",
   "language": "python",
   "name": "python3"
  },
  "language_info": {
   "codemirror_mode": {
    "name": "ipython",
    "version": 3
   },
   "file_extension": ".py",
   "mimetype": "text/x-python",
   "name": "python",
   "nbconvert_exporter": "python",
   "pygments_lexer": "ipython3",
   "version": "3.9.7"
  }
 },
 "nbformat": 4,
 "nbformat_minor": 5
}
